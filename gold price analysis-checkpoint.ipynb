{
 "cells": [
  {
   "cell_type": "markdown",
   "id": "18906a8c",
   "metadata": {},
   "source": [
    "# Import Libraries"
   ]
  },
  {
   "cell_type": "code",
   "execution_count": 1,
   "id": "2387271a",
   "metadata": {},
   "outputs": [],
   "source": [
    "import numpy as np\n",
    "import pandas as pd\n",
    "import matplotlib.pyplot as plt\n",
    "from sklearn.model_selection import train_test_split\n",
    "from sklearn.linear_model import LinearRegression"
   ]
  },
  {
   "cell_type": "code",
   "execution_count": 2,
   "id": "cf9e69af",
   "metadata": {},
   "outputs": [],
   "source": [
    "data = pd.read_csv('D:\\MLprojects\\gold_price.csv')"
   ]
  },
  {
   "cell_type": "code",
   "execution_count": 3,
   "id": "405a98a7",
   "metadata": {},
   "outputs": [
    {
     "data": {
      "text/html": [
       "<div>\n",
       "<style scoped>\n",
       "    .dataframe tbody tr th:only-of-type {\n",
       "        vertical-align: middle;\n",
       "    }\n",
       "\n",
       "    .dataframe tbody tr th {\n",
       "        vertical-align: top;\n",
       "    }\n",
       "\n",
       "    .dataframe thead th {\n",
       "        text-align: right;\n",
       "    }\n",
       "</style>\n",
       "<table border=\"1\" class=\"dataframe\">\n",
       "  <thead>\n",
       "    <tr style=\"text-align: right;\">\n",
       "      <th></th>\n",
       "      <th>Date</th>\n",
       "      <th>USD (AM)</th>\n",
       "      <th>USD (PM)</th>\n",
       "      <th>GBP (AM)</th>\n",
       "      <th>GBP (PM)</th>\n",
       "      <th>EURO (AM)</th>\n",
       "      <th>EURO (PM)</th>\n",
       "    </tr>\n",
       "  </thead>\n",
       "  <tbody>\n",
       "    <tr>\n",
       "      <th>0</th>\n",
       "      <td>2001-01-02</td>\n",
       "      <td>272.80</td>\n",
       "      <td>271.10</td>\n",
       "      <td>183.026</td>\n",
       "      <td>181.617</td>\n",
       "      <td>288.677</td>\n",
       "      <td>287.334</td>\n",
       "    </tr>\n",
       "    <tr>\n",
       "      <th>1</th>\n",
       "      <td>2001-01-03</td>\n",
       "      <td>269.00</td>\n",
       "      <td>267.15</td>\n",
       "      <td>178.916</td>\n",
       "      <td>177.390</td>\n",
       "      <td>281.823</td>\n",
       "      <td>281.655</td>\n",
       "    </tr>\n",
       "    <tr>\n",
       "      <th>2</th>\n",
       "      <td>2001-01-04</td>\n",
       "      <td>268.75</td>\n",
       "      <td>267.10</td>\n",
       "      <td>178.869</td>\n",
       "      <td>178.352</td>\n",
       "      <td>282.538</td>\n",
       "      <td>282.049</td>\n",
       "    </tr>\n",
       "    <tr>\n",
       "      <th>3</th>\n",
       "      <td>2001-01-05</td>\n",
       "      <td>268.00</td>\n",
       "      <td>267.40</td>\n",
       "      <td>178.488</td>\n",
       "      <td>178.148</td>\n",
       "      <td>280.775</td>\n",
       "      <td>280.882</td>\n",
       "    </tr>\n",
       "    <tr>\n",
       "      <th>4</th>\n",
       "      <td>2001-01-08</td>\n",
       "      <td>268.60</td>\n",
       "      <td>268.30</td>\n",
       "      <td>178.769</td>\n",
       "      <td>178.664</td>\n",
       "      <td>282.410</td>\n",
       "      <td>282.481</td>\n",
       "    </tr>\n",
       "  </tbody>\n",
       "</table>\n",
       "</div>"
      ],
      "text/plain": [
       "         Date  USD (AM)  USD (PM)  GBP (AM)  GBP (PM)  EURO (AM)  EURO (PM)\n",
       "0  2001-01-02    272.80    271.10   183.026   181.617    288.677    287.334\n",
       "1  2001-01-03    269.00    267.15   178.916   177.390    281.823    281.655\n",
       "2  2001-01-04    268.75    267.10   178.869   178.352    282.538    282.049\n",
       "3  2001-01-05    268.00    267.40   178.488   178.148    280.775    280.882\n",
       "4  2001-01-08    268.60    268.30   178.769   178.664    282.410    282.481"
      ]
     },
     "execution_count": 3,
     "metadata": {},
     "output_type": "execute_result"
    }
   ],
   "source": [
    "data.head()"
   ]
  },
  {
   "cell_type": "markdown",
   "id": "cb0ef344",
   "metadata": {},
   "source": [
    "# Initial Data Exploration "
   ]
  },
  {
   "cell_type": "code",
   "execution_count": 4,
   "id": "796e88d3",
   "metadata": {},
   "outputs": [],
   "source": [
    "%matplotlib inline"
   ]
  },
  {
   "cell_type": "code",
   "execution_count": 5,
   "id": "63fa947b",
   "metadata": {},
   "outputs": [
    {
     "data": {
      "text/plain": [
       "Index(['Date', 'USD (AM)', 'USD (PM)', 'GBP (AM)', 'GBP (PM)', 'EURO (AM)',\n",
       "       'EURO (PM)'],\n",
       "      dtype='object')"
      ]
     },
     "execution_count": 5,
     "metadata": {},
     "output_type": "execute_result"
    }
   ],
   "source": [
    "data.columns"
   ]
  },
  {
   "cell_type": "code",
   "execution_count": 6,
   "id": "97d85ce1",
   "metadata": {},
   "outputs": [
    {
     "data": {
      "text/plain": [
       "Date          object\n",
       "USD (AM)     float64\n",
       "USD (PM)     float64\n",
       "GBP (AM)     float64\n",
       "GBP (PM)     float64\n",
       "EURO (AM)    float64\n",
       "EURO (PM)    float64\n",
       "dtype: object"
      ]
     },
     "execution_count": 6,
     "metadata": {},
     "output_type": "execute_result"
    }
   ],
   "source": [
    "data.dtypes"
   ]
  },
  {
   "cell_type": "code",
   "execution_count": 7,
   "id": "f85da29d",
   "metadata": {},
   "outputs": [
    {
     "data": {
      "text/html": [
       "<div>\n",
       "<style scoped>\n",
       "    .dataframe tbody tr th:only-of-type {\n",
       "        vertical-align: middle;\n",
       "    }\n",
       "\n",
       "    .dataframe tbody tr th {\n",
       "        vertical-align: top;\n",
       "    }\n",
       "\n",
       "    .dataframe thead th {\n",
       "        text-align: right;\n",
       "    }\n",
       "</style>\n",
       "<table border=\"1\" class=\"dataframe\">\n",
       "  <thead>\n",
       "    <tr style=\"text-align: right;\">\n",
       "      <th></th>\n",
       "      <th>USD (AM)</th>\n",
       "      <th>USD (PM)</th>\n",
       "      <th>GBP (AM)</th>\n",
       "      <th>GBP (PM)</th>\n",
       "      <th>EURO (AM)</th>\n",
       "      <th>EURO (PM)</th>\n",
       "    </tr>\n",
       "  </thead>\n",
       "  <tbody>\n",
       "    <tr>\n",
       "      <th>count</th>\n",
       "      <td>4718.000000</td>\n",
       "      <td>4682.000000</td>\n",
       "      <td>4718.000000</td>\n",
       "      <td>4682.000000</td>\n",
       "      <td>4718.000000</td>\n",
       "      <td>4682.000000</td>\n",
       "    </tr>\n",
       "    <tr>\n",
       "      <th>mean</th>\n",
       "      <td>959.990812</td>\n",
       "      <td>959.728684</td>\n",
       "      <td>625.068432</td>\n",
       "      <td>624.921846</td>\n",
       "      <td>773.892791</td>\n",
       "      <td>773.843716</td>\n",
       "    </tr>\n",
       "    <tr>\n",
       "      <th>std</th>\n",
       "      <td>449.456217</td>\n",
       "      <td>449.487106</td>\n",
       "      <td>324.491391</td>\n",
       "      <td>324.544149</td>\n",
       "      <td>351.555806</td>\n",
       "      <td>351.696708</td>\n",
       "    </tr>\n",
       "    <tr>\n",
       "      <th>min</th>\n",
       "      <td>256.700000</td>\n",
       "      <td>255.950000</td>\n",
       "      <td>176.572000</td>\n",
       "      <td>176.441000</td>\n",
       "      <td>276.711000</td>\n",
       "      <td>277.667000</td>\n",
       "    </tr>\n",
       "    <tr>\n",
       "      <th>25%</th>\n",
       "      <td>449.112500</td>\n",
       "      <td>448.612500</td>\n",
       "      <td>244.576750</td>\n",
       "      <td>244.463500</td>\n",
       "      <td>361.393500</td>\n",
       "      <td>361.338750</td>\n",
       "    </tr>\n",
       "    <tr>\n",
       "      <th>50%</th>\n",
       "      <td>1113.125000</td>\n",
       "      <td>1112.275000</td>\n",
       "      <td>717.145000</td>\n",
       "      <td>716.210500</td>\n",
       "      <td>874.354500</td>\n",
       "      <td>875.141500</td>\n",
       "    </tr>\n",
       "    <tr>\n",
       "      <th>75%</th>\n",
       "      <td>1293.750000</td>\n",
       "      <td>1294.225000</td>\n",
       "      <td>939.065500</td>\n",
       "      <td>939.266500</td>\n",
       "      <td>1085.967750</td>\n",
       "      <td>1085.816250</td>\n",
       "    </tr>\n",
       "    <tr>\n",
       "      <th>max</th>\n",
       "      <td>1896.500000</td>\n",
       "      <td>1895.000000</td>\n",
       "      <td>1265.900000</td>\n",
       "      <td>1265.010000</td>\n",
       "      <td>1389.890000</td>\n",
       "      <td>1392.030000</td>\n",
       "    </tr>\n",
       "  </tbody>\n",
       "</table>\n",
       "</div>"
      ],
      "text/plain": [
       "          USD (AM)     USD (PM)     GBP (AM)     GBP (PM)    EURO (AM)  \\\n",
       "count  4718.000000  4682.000000  4718.000000  4682.000000  4718.000000   \n",
       "mean    959.990812   959.728684   625.068432   624.921846   773.892791   \n",
       "std     449.456217   449.487106   324.491391   324.544149   351.555806   \n",
       "min     256.700000   255.950000   176.572000   176.441000   276.711000   \n",
       "25%     449.112500   448.612500   244.576750   244.463500   361.393500   \n",
       "50%    1113.125000  1112.275000   717.145000   716.210500   874.354500   \n",
       "75%    1293.750000  1294.225000   939.065500   939.266500  1085.967750   \n",
       "max    1896.500000  1895.000000  1265.900000  1265.010000  1389.890000   \n",
       "\n",
       "         EURO (PM)  \n",
       "count  4682.000000  \n",
       "mean    773.843716  \n",
       "std     351.696708  \n",
       "min     277.667000  \n",
       "25%     361.338750  \n",
       "50%     875.141500  \n",
       "75%    1085.816250  \n",
       "max    1392.030000  "
      ]
     },
     "execution_count": 7,
     "metadata": {},
     "output_type": "execute_result"
    }
   ],
   "source": [
    "data.describe()"
   ]
  },
  {
   "cell_type": "code",
   "execution_count": 8,
   "id": "4032175d",
   "metadata": {},
   "outputs": [
    {
     "name": "stdout",
     "output_type": "stream",
     "text": [
      "<class 'pandas.core.frame.DataFrame'>\n",
      "RangeIndex: 4718 entries, 0 to 4717\n",
      "Data columns (total 7 columns):\n",
      " #   Column     Non-Null Count  Dtype  \n",
      "---  ------     --------------  -----  \n",
      " 0   Date       4718 non-null   object \n",
      " 1   USD (AM)   4718 non-null   float64\n",
      " 2   USD (PM)   4682 non-null   float64\n",
      " 3   GBP (AM)   4718 non-null   float64\n",
      " 4   GBP (PM)   4682 non-null   float64\n",
      " 5   EURO (AM)  4718 non-null   float64\n",
      " 6   EURO (PM)  4682 non-null   float64\n",
      "dtypes: float64(6), object(1)\n",
      "memory usage: 258.1+ KB\n"
     ]
    }
   ],
   "source": [
    "data.info()"
   ]
  },
  {
   "cell_type": "code",
   "execution_count": 9,
   "id": "53366af4",
   "metadata": {},
   "outputs": [
    {
     "data": {
      "text/plain": [
       "0       False\n",
       "1       False\n",
       "2       False\n",
       "3       False\n",
       "4       False\n",
       "        ...  \n",
       "4713    False\n",
       "4714    False\n",
       "4715    False\n",
       "4716    False\n",
       "4717    False\n",
       "Length: 4718, dtype: bool"
      ]
     },
     "execution_count": 9,
     "metadata": {},
     "output_type": "execute_result"
    }
   ],
   "source": [
    "data.duplicated()"
   ]
  },
  {
   "cell_type": "code",
   "execution_count": 10,
   "id": "0b573ccd",
   "metadata": {},
   "outputs": [
    {
     "data": {
      "text/plain": [
       "<bound method DataFrame.drop_duplicates of             Date  USD (AM)  USD (PM)  GBP (AM)  GBP (PM)  EURO (AM)  EURO (PM)\n",
       "0     2001-01-02    272.80    271.10   183.026   181.617    288.677    287.334\n",
       "1     2001-01-03    269.00    267.15   178.916   177.390    281.823    281.655\n",
       "2     2001-01-04    268.75    267.10   178.869   178.352    282.538    282.049\n",
       "3     2001-01-05    268.00    267.40   178.488   178.148    280.775    280.882\n",
       "4     2001-01-08    268.60    268.30   178.769   178.664    282.410    282.481\n",
       "...          ...       ...       ...       ...       ...        ...        ...\n",
       "4713  2019-08-27   1531.85   1532.95  1250.910  1247.510   1378.970   1380.880\n",
       "4714  2019-08-28   1541.75   1537.15  1263.310  1258.770   1389.890   1387.430\n",
       "4715  2019-08-29   1536.65   1540.20  1260.510  1262.960   1387.290   1392.030\n",
       "4716  2019-08-30   1526.55   1528.40  1253.140  1251.150   1382.750   1383.510\n",
       "4717  2019-09-02   1523.35   1525.95  1260.420  1265.010   1388.690   1391.510\n",
       "\n",
       "[4718 rows x 7 columns]>"
      ]
     },
     "execution_count": 10,
     "metadata": {},
     "output_type": "execute_result"
    }
   ],
   "source": [
    "data.drop_duplicates"
   ]
  },
  {
   "cell_type": "code",
   "execution_count": 11,
   "id": "5dab9cfa",
   "metadata": {},
   "outputs": [
    {
     "data": {
      "text/plain": [
       "0"
      ]
     },
     "execution_count": 11,
     "metadata": {},
     "output_type": "execute_result"
    }
   ],
   "source": [
    "data.duplicated().sum()"
   ]
  },
  {
   "cell_type": "code",
   "execution_count": 12,
   "id": "afe033f6",
   "metadata": {},
   "outputs": [
    {
     "data": {
      "text/plain": [
       "Date          0\n",
       "USD (AM)      0\n",
       "USD (PM)     36\n",
       "GBP (AM)      0\n",
       "GBP (PM)     36\n",
       "EURO (AM)     0\n",
       "EURO (PM)    36\n",
       "dtype: int64"
      ]
     },
     "execution_count": 12,
     "metadata": {},
     "output_type": "execute_result"
    }
   ],
   "source": [
    "data.isnull().sum()"
   ]
  },
  {
   "cell_type": "code",
   "execution_count": 13,
   "id": "34713863",
   "metadata": {},
   "outputs": [
    {
     "data": {
      "text/plain": [
       "4718"
      ]
     },
     "execution_count": 13,
     "metadata": {},
     "output_type": "execute_result"
    }
   ],
   "source": [
    "len(data)"
   ]
  },
  {
   "cell_type": "markdown",
   "id": "53a95d13",
   "metadata": {},
   "source": [
    "# Task 2 : Create Train & Test Sets"
   ]
  },
  {
   "cell_type": "code",
   "execution_count": 14,
   "id": "934c4a21",
   "metadata": {},
   "outputs": [
    {
     "data": {
      "text/html": [
       "<div>\n",
       "<style scoped>\n",
       "    .dataframe tbody tr th:only-of-type {\n",
       "        vertical-align: middle;\n",
       "    }\n",
       "\n",
       "    .dataframe tbody tr th {\n",
       "        vertical-align: top;\n",
       "    }\n",
       "\n",
       "    .dataframe thead th {\n",
       "        text-align: right;\n",
       "    }\n",
       "</style>\n",
       "<table border=\"1\" class=\"dataframe\">\n",
       "  <thead>\n",
       "    <tr style=\"text-align: right;\">\n",
       "      <th></th>\n",
       "      <th>Date</th>\n",
       "      <th>USD (AM)</th>\n",
       "      <th>USD (PM)</th>\n",
       "      <th>GBP (AM)</th>\n",
       "      <th>GBP (PM)</th>\n",
       "      <th>EURO (AM)</th>\n",
       "      <th>EURO (PM)</th>\n",
       "    </tr>\n",
       "  </thead>\n",
       "  <tbody>\n",
       "    <tr>\n",
       "      <th>0</th>\n",
       "      <td>2001-01-02</td>\n",
       "      <td>272.80</td>\n",
       "      <td>271.10</td>\n",
       "      <td>183.026</td>\n",
       "      <td>181.617</td>\n",
       "      <td>288.677</td>\n",
       "      <td>287.334</td>\n",
       "    </tr>\n",
       "    <tr>\n",
       "      <th>1</th>\n",
       "      <td>2001-01-03</td>\n",
       "      <td>269.00</td>\n",
       "      <td>267.15</td>\n",
       "      <td>178.916</td>\n",
       "      <td>177.390</td>\n",
       "      <td>281.823</td>\n",
       "      <td>281.655</td>\n",
       "    </tr>\n",
       "    <tr>\n",
       "      <th>2</th>\n",
       "      <td>2001-01-04</td>\n",
       "      <td>268.75</td>\n",
       "      <td>267.10</td>\n",
       "      <td>178.869</td>\n",
       "      <td>178.352</td>\n",
       "      <td>282.538</td>\n",
       "      <td>282.049</td>\n",
       "    </tr>\n",
       "    <tr>\n",
       "      <th>3</th>\n",
       "      <td>2001-01-05</td>\n",
       "      <td>268.00</td>\n",
       "      <td>267.40</td>\n",
       "      <td>178.488</td>\n",
       "      <td>178.148</td>\n",
       "      <td>280.775</td>\n",
       "      <td>280.882</td>\n",
       "    </tr>\n",
       "    <tr>\n",
       "      <th>4</th>\n",
       "      <td>2001-01-08</td>\n",
       "      <td>268.60</td>\n",
       "      <td>268.30</td>\n",
       "      <td>178.769</td>\n",
       "      <td>178.664</td>\n",
       "      <td>282.410</td>\n",
       "      <td>282.481</td>\n",
       "    </tr>\n",
       "    <tr>\n",
       "      <th>...</th>\n",
       "      <td>...</td>\n",
       "      <td>...</td>\n",
       "      <td>...</td>\n",
       "      <td>...</td>\n",
       "      <td>...</td>\n",
       "      <td>...</td>\n",
       "      <td>...</td>\n",
       "    </tr>\n",
       "    <tr>\n",
       "      <th>2995</th>\n",
       "      <td>2012-11-07</td>\n",
       "      <td>1730.50</td>\n",
       "      <td>1715.25</td>\n",
       "      <td>1080.752</td>\n",
       "      <td>1073.037</td>\n",
       "      <td>1345.855</td>\n",
       "      <td>1344.345</td>\n",
       "    </tr>\n",
       "    <tr>\n",
       "      <th>2996</th>\n",
       "      <td>2012-11-08</td>\n",
       "      <td>1715.00</td>\n",
       "      <td>1717.00</td>\n",
       "      <td>1075.842</td>\n",
       "      <td>1074.401</td>\n",
       "      <td>1347.423</td>\n",
       "      <td>1347.301</td>\n",
       "    </tr>\n",
       "    <tr>\n",
       "      <th>2997</th>\n",
       "      <td>2012-11-09</td>\n",
       "      <td>1732.75</td>\n",
       "      <td>1738.25</td>\n",
       "      <td>1085.547</td>\n",
       "      <td>1091.180</td>\n",
       "      <td>1362.225</td>\n",
       "      <td>1366.549</td>\n",
       "    </tr>\n",
       "    <tr>\n",
       "      <th>2998</th>\n",
       "      <td>2012-11-12</td>\n",
       "      <td>1735.75</td>\n",
       "      <td>1735.25</td>\n",
       "      <td>1091.392</td>\n",
       "      <td>1093.071</td>\n",
       "      <td>1365.442</td>\n",
       "      <td>1364.405</td>\n",
       "    </tr>\n",
       "    <tr>\n",
       "      <th>2999</th>\n",
       "      <td>2012-11-13</td>\n",
       "      <td>1724.75</td>\n",
       "      <td>1726.25</td>\n",
       "      <td>1085.226</td>\n",
       "      <td>1086.991</td>\n",
       "      <td>1360.857</td>\n",
       "      <td>1359.894</td>\n",
       "    </tr>\n",
       "  </tbody>\n",
       "</table>\n",
       "<p>3000 rows × 7 columns</p>\n",
       "</div>"
      ],
      "text/plain": [
       "            Date  USD (AM)  USD (PM)  GBP (AM)  GBP (PM)  EURO (AM)  EURO (PM)\n",
       "0     2001-01-02    272.80    271.10   183.026   181.617    288.677    287.334\n",
       "1     2001-01-03    269.00    267.15   178.916   177.390    281.823    281.655\n",
       "2     2001-01-04    268.75    267.10   178.869   178.352    282.538    282.049\n",
       "3     2001-01-05    268.00    267.40   178.488   178.148    280.775    280.882\n",
       "4     2001-01-08    268.60    268.30   178.769   178.664    282.410    282.481\n",
       "...          ...       ...       ...       ...       ...        ...        ...\n",
       "2995  2012-11-07   1730.50   1715.25  1080.752  1073.037   1345.855   1344.345\n",
       "2996  2012-11-08   1715.00   1717.00  1075.842  1074.401   1347.423   1347.301\n",
       "2997  2012-11-09   1732.75   1738.25  1085.547  1091.180   1362.225   1366.549\n",
       "2998  2012-11-12   1735.75   1735.25  1091.392  1093.071   1365.442   1364.405\n",
       "2999  2012-11-13   1724.75   1726.25  1085.226  1086.991   1360.857   1359.894\n",
       "\n",
       "[3000 rows x 7 columns]"
      ]
     },
     "execution_count": 14,
     "metadata": {},
     "output_type": "execute_result"
    }
   ],
   "source": [
    "train_data = data[:3000]\n",
    "train_data"
   ]
  },
  {
   "cell_type": "code",
   "execution_count": 15,
   "id": "ad908047",
   "metadata": {},
   "outputs": [
    {
     "data": {
      "text/html": [
       "<div>\n",
       "<style scoped>\n",
       "    .dataframe tbody tr th:only-of-type {\n",
       "        vertical-align: middle;\n",
       "    }\n",
       "\n",
       "    .dataframe tbody tr th {\n",
       "        vertical-align: top;\n",
       "    }\n",
       "\n",
       "    .dataframe thead th {\n",
       "        text-align: right;\n",
       "    }\n",
       "</style>\n",
       "<table border=\"1\" class=\"dataframe\">\n",
       "  <thead>\n",
       "    <tr style=\"text-align: right;\">\n",
       "      <th></th>\n",
       "      <th>Date</th>\n",
       "      <th>USD (AM)</th>\n",
       "      <th>USD (PM)</th>\n",
       "      <th>GBP (AM)</th>\n",
       "      <th>GBP (PM)</th>\n",
       "      <th>EURO (AM)</th>\n",
       "      <th>EURO (PM)</th>\n",
       "    </tr>\n",
       "  </thead>\n",
       "  <tbody>\n",
       "    <tr>\n",
       "      <th>3000</th>\n",
       "      <td>2012-11-14</td>\n",
       "      <td>1724.50</td>\n",
       "      <td>1725.75</td>\n",
       "      <td>1085.205</td>\n",
       "      <td>1087.155</td>\n",
       "      <td>1353.080</td>\n",
       "      <td>1354.486</td>\n",
       "    </tr>\n",
       "    <tr>\n",
       "      <th>3001</th>\n",
       "      <td>2012-11-15</td>\n",
       "      <td>1723.50</td>\n",
       "      <td>1710.00</td>\n",
       "      <td>1087.656</td>\n",
       "      <td>1078.048</td>\n",
       "      <td>1351.447</td>\n",
       "      <td>1337.191</td>\n",
       "    </tr>\n",
       "    <tr>\n",
       "      <th>3002</th>\n",
       "      <td>2012-11-16</td>\n",
       "      <td>1710.00</td>\n",
       "      <td>1713.50</td>\n",
       "      <td>1077.912</td>\n",
       "      <td>1080.255</td>\n",
       "      <td>1342.756</td>\n",
       "      <td>1346.562</td>\n",
       "    </tr>\n",
       "    <tr>\n",
       "      <th>3003</th>\n",
       "      <td>2012-11-19</td>\n",
       "      <td>1723.25</td>\n",
       "      <td>1730.50</td>\n",
       "      <td>1083.669</td>\n",
       "      <td>1087.954</td>\n",
       "      <td>1349.663</td>\n",
       "      <td>1353.433</td>\n",
       "    </tr>\n",
       "    <tr>\n",
       "      <th>3004</th>\n",
       "      <td>2012-11-20</td>\n",
       "      <td>1734.00</td>\n",
       "      <td>1732.25</td>\n",
       "      <td>1089.059</td>\n",
       "      <td>1088.302</td>\n",
       "      <td>1354.053</td>\n",
       "      <td>1353.215</td>\n",
       "    </tr>\n",
       "    <tr>\n",
       "      <th>...</th>\n",
       "      <td>...</td>\n",
       "      <td>...</td>\n",
       "      <td>...</td>\n",
       "      <td>...</td>\n",
       "      <td>...</td>\n",
       "      <td>...</td>\n",
       "      <td>...</td>\n",
       "    </tr>\n",
       "    <tr>\n",
       "      <th>4713</th>\n",
       "      <td>2019-08-27</td>\n",
       "      <td>1531.85</td>\n",
       "      <td>1532.95</td>\n",
       "      <td>1250.910</td>\n",
       "      <td>1247.510</td>\n",
       "      <td>1378.970</td>\n",
       "      <td>1380.880</td>\n",
       "    </tr>\n",
       "    <tr>\n",
       "      <th>4714</th>\n",
       "      <td>2019-08-28</td>\n",
       "      <td>1541.75</td>\n",
       "      <td>1537.15</td>\n",
       "      <td>1263.310</td>\n",
       "      <td>1258.770</td>\n",
       "      <td>1389.890</td>\n",
       "      <td>1387.430</td>\n",
       "    </tr>\n",
       "    <tr>\n",
       "      <th>4715</th>\n",
       "      <td>2019-08-29</td>\n",
       "      <td>1536.65</td>\n",
       "      <td>1540.20</td>\n",
       "      <td>1260.510</td>\n",
       "      <td>1262.960</td>\n",
       "      <td>1387.290</td>\n",
       "      <td>1392.030</td>\n",
       "    </tr>\n",
       "    <tr>\n",
       "      <th>4716</th>\n",
       "      <td>2019-08-30</td>\n",
       "      <td>1526.55</td>\n",
       "      <td>1528.40</td>\n",
       "      <td>1253.140</td>\n",
       "      <td>1251.150</td>\n",
       "      <td>1382.750</td>\n",
       "      <td>1383.510</td>\n",
       "    </tr>\n",
       "    <tr>\n",
       "      <th>4717</th>\n",
       "      <td>2019-09-02</td>\n",
       "      <td>1523.35</td>\n",
       "      <td>1525.95</td>\n",
       "      <td>1260.420</td>\n",
       "      <td>1265.010</td>\n",
       "      <td>1388.690</td>\n",
       "      <td>1391.510</td>\n",
       "    </tr>\n",
       "  </tbody>\n",
       "</table>\n",
       "<p>1718 rows × 7 columns</p>\n",
       "</div>"
      ],
      "text/plain": [
       "            Date  USD (AM)  USD (PM)  GBP (AM)  GBP (PM)  EURO (AM)  EURO (PM)\n",
       "3000  2012-11-14   1724.50   1725.75  1085.205  1087.155   1353.080   1354.486\n",
       "3001  2012-11-15   1723.50   1710.00  1087.656  1078.048   1351.447   1337.191\n",
       "3002  2012-11-16   1710.00   1713.50  1077.912  1080.255   1342.756   1346.562\n",
       "3003  2012-11-19   1723.25   1730.50  1083.669  1087.954   1349.663   1353.433\n",
       "3004  2012-11-20   1734.00   1732.25  1089.059  1088.302   1354.053   1353.215\n",
       "...          ...       ...       ...       ...       ...        ...        ...\n",
       "4713  2019-08-27   1531.85   1532.95  1250.910  1247.510   1378.970   1380.880\n",
       "4714  2019-08-28   1541.75   1537.15  1263.310  1258.770   1389.890   1387.430\n",
       "4715  2019-08-29   1536.65   1540.20  1260.510  1262.960   1387.290   1392.030\n",
       "4716  2019-08-30   1526.55   1528.40  1253.140  1251.150   1382.750   1383.510\n",
       "4717  2019-09-02   1523.35   1525.95  1260.420  1265.010   1388.690   1391.510\n",
       "\n",
       "[1718 rows x 7 columns]"
      ]
     },
     "execution_count": 15,
     "metadata": {},
     "output_type": "execute_result"
    }
   ],
   "source": [
    "test_data = data[3000:]\n",
    "test_data"
   ]
  },
  {
   "cell_type": "code",
   "execution_count": 16,
   "id": "209c4d24",
   "metadata": {},
   "outputs": [
    {
     "data": {
      "text/plain": [
       "((3774, 6), (944, 6))"
      ]
     },
     "execution_count": 16,
     "metadata": {},
     "output_type": "execute_result"
    }
   ],
   "source": [
    "X_train, X_test, y_train, y_test = train_test_split(data.drop('USD (AM)' , axis =1),data['USD (AM)'] ,test_size=0.2,random_state=0)\n",
    "X_train.shape , X_test.shape"
   ]
  },
  {
   "cell_type": "code",
   "execution_count": 17,
   "id": "edfda46a",
   "metadata": {},
   "outputs": [
    {
     "data": {
      "text/html": [
       "<div>\n",
       "<style scoped>\n",
       "    .dataframe tbody tr th:only-of-type {\n",
       "        vertical-align: middle;\n",
       "    }\n",
       "\n",
       "    .dataframe tbody tr th {\n",
       "        vertical-align: top;\n",
       "    }\n",
       "\n",
       "    .dataframe thead th {\n",
       "        text-align: right;\n",
       "    }\n",
       "</style>\n",
       "<table border=\"1\" class=\"dataframe\">\n",
       "  <thead>\n",
       "    <tr style=\"text-align: right;\">\n",
       "      <th></th>\n",
       "      <th>Date</th>\n",
       "      <th>USD (PM)</th>\n",
       "      <th>GBP (AM)</th>\n",
       "      <th>GBP (PM)</th>\n",
       "      <th>EURO (AM)</th>\n",
       "      <th>EURO (PM)</th>\n",
       "    </tr>\n",
       "  </thead>\n",
       "  <tbody>\n",
       "    <tr>\n",
       "      <th>1465</th>\n",
       "      <td>2006-10-18</td>\n",
       "      <td>594.00</td>\n",
       "      <td>318.333</td>\n",
       "      <td>317.970</td>\n",
       "      <td>474.681</td>\n",
       "      <td>474.668</td>\n",
       "    </tr>\n",
       "    <tr>\n",
       "      <th>1377</th>\n",
       "      <td>2006-06-15</td>\n",
       "      <td>569.50</td>\n",
       "      <td>311.027</td>\n",
       "      <td>307.838</td>\n",
       "      <td>454.960</td>\n",
       "      <td>450.732</td>\n",
       "    </tr>\n",
       "    <tr>\n",
       "      <th>34</th>\n",
       "      <td>2001-02-19</td>\n",
       "      <td>259.45</td>\n",
       "      <td>178.279</td>\n",
       "      <td>179.055</td>\n",
       "      <td>281.131</td>\n",
       "      <td>281.613</td>\n",
       "    </tr>\n",
       "    <tr>\n",
       "      <th>286</th>\n",
       "      <td>2002-02-18</td>\n",
       "      <td>297.35</td>\n",
       "      <td>208.159</td>\n",
       "      <td>208.155</td>\n",
       "      <td>341.924</td>\n",
       "      <td>341.428</td>\n",
       "    </tr>\n",
       "    <tr>\n",
       "      <th>465</th>\n",
       "      <td>2002-11-04</td>\n",
       "      <td>317.55</td>\n",
       "      <td>203.725</td>\n",
       "      <td>204.409</td>\n",
       "      <td>318.794</td>\n",
       "      <td>319.403</td>\n",
       "    </tr>\n",
       "  </tbody>\n",
       "</table>\n",
       "</div>"
      ],
      "text/plain": [
       "            Date  USD (PM)  GBP (AM)  GBP (PM)  EURO (AM)  EURO (PM)\n",
       "1465  2006-10-18    594.00   318.333   317.970    474.681    474.668\n",
       "1377  2006-06-15    569.50   311.027   307.838    454.960    450.732\n",
       "34    2001-02-19    259.45   178.279   179.055    281.131    281.613\n",
       "286   2002-02-18    297.35   208.159   208.155    341.924    341.428\n",
       "465   2002-11-04    317.55   203.725   204.409    318.794    319.403"
      ]
     },
     "execution_count": 17,
     "metadata": {},
     "output_type": "execute_result"
    }
   ],
   "source": [
    "X_train.head()"
   ]
  },
  {
   "cell_type": "code",
   "execution_count": null,
   "id": "48de3908",
   "metadata": {},
   "outputs": [],
   "source": []
  }
 ],
 "metadata": {
  "kernelspec": {
   "display_name": "Python 3 (ipykernel)",
   "language": "python",
   "name": "python3"
  },
  "language_info": {
   "codemirror_mode": {
    "name": "ipython",
    "version": 3
   },
   "file_extension": ".py",
   "mimetype": "text/x-python",
   "name": "python",
   "nbconvert_exporter": "python",
   "pygments_lexer": "ipython3",
   "version": "3.9.5"
  }
 },
 "nbformat": 4,
 "nbformat_minor": 5
}
